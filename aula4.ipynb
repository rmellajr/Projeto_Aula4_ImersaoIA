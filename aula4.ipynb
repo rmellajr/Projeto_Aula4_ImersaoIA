{
  "nbformat": 4,
  "nbformat_minor": 0,
  "metadata": {
    "colab": {
      "provenance": [],
      "authorship_tag": "ABX9TyO6GoZCNqGCooxseBrf/6qW",
      "include_colab_link": true
    },
    "kernelspec": {
      "name": "python3",
      "display_name": "Python 3"
    },
    "language_info": {
      "name": "python"
    }
  },
  "cells": [
    {
      "cell_type": "markdown",
      "metadata": {
        "id": "view-in-github",
        "colab_type": "text"
      },
      "source": [
        "<a href=\"https://colab.research.google.com/github/rmellajr/Projeto_Aula4_ImersaoIA/blob/main/aula4.ipynb\" target=\"_parent\"><img src=\"https://colab.research.google.com/assets/colab-badge.svg\" alt=\"Open In Colab\"/></a>"
      ]
    },
    {
      "cell_type": "markdown",
      "source": [
        "Instalando o SDK do Google AI\n",
        "\n"
      ],
      "metadata": {
        "id": "d_vWW4mwg4yr"
      }
    },
    {
      "cell_type": "code",
      "execution_count": 3,
      "metadata": {
        "id": "gShspJ5NZ2nT"
      },
      "outputs": [],
      "source": [
        "!pip install -q -U google-generativeai"
      ]
    },
    {
      "cell_type": "code",
      "source": [
        "# Import the Python SDK\n",
        "import google.generativeai as genai\n",
        "from google.colab import userdata\n",
        "api_key = userdata.get('SECRET_KEY')\n",
        "genai.configure(api_key=api_key)\n"
      ],
      "metadata": {
        "id": "nlJZMG10gqeQ"
      },
      "execution_count": 105,
      "outputs": []
    },
    {
      "cell_type": "markdown",
      "source": [
        "Listar os modelos disponíveis"
      ],
      "metadata": {
        "id": "oHzWRDNehsrh"
      }
    },
    {
      "cell_type": "code",
      "source": [
        "for m in genai.list_models():\n",
        "  if 'generateContent' in m.supported_generation_methods:\n",
        "    print(m.name)"
      ],
      "metadata": {
        "colab": {
          "base_uri": "https://localhost:8080/",
          "height": 142
        },
        "id": "RoSav71Vho_z",
        "outputId": "07e44cd4-4242-4eaf-b3bf-33888d8f6cc1"
      },
      "execution_count": 106,
      "outputs": [
        {
          "output_type": "stream",
          "name": "stdout",
          "text": [
            "models/gemini-1.0-pro\n",
            "models/gemini-1.0-pro-001\n",
            "models/gemini-1.0-pro-latest\n",
            "models/gemini-1.0-pro-vision-latest\n",
            "models/gemini-1.5-pro-latest\n",
            "models/gemini-pro\n",
            "models/gemini-pro-vision\n"
          ]
        }
      ]
    },
    {
      "cell_type": "code",
      "source": [
        "generation_config = {\n",
        "    \"candidate_count\": 1,\n",
        "    \"temperature\": 0.5,\n",
        "}"
      ],
      "metadata": {
        "id": "rUx1ng5rlFHc"
      },
      "execution_count": 107,
      "outputs": []
    },
    {
      "cell_type": "code",
      "source": [
        "\n",
        "safety_settings = {\n",
        "   \"HARASSMENT\" : \"BLOCK_NONE\",\n",
        "   \"HATE\" : \"BLOCK_NONE\",\n",
        "   \"SEXUAL\" : \"BLOCK_NONE\",\n",
        "   \"DANGEROUS\" : \"BLOCK_NONE\",\n",
        "}"
      ],
      "metadata": {
        "id": "NjCGjIw_nZ7o"
      },
      "execution_count": 108,
      "outputs": []
    },
    {
      "cell_type": "markdown",
      "source": [
        "Inicializando o modelo"
      ],
      "metadata": {
        "id": "SJ1E-RxGe2Fy"
      }
    },
    {
      "cell_type": "code",
      "source": [
        "model = genai.GenerativeModel(model_name=\"gemini-1.0-pro\",\n",
        "                              generation_config=generation_config,\n",
        "                              safety_settings=safety_settings)"
      ],
      "metadata": {
        "id": "a-PoHGlUf7we"
      },
      "execution_count": 109,
      "outputs": []
    },
    {
      "cell_type": "markdown",
      "source": [
        "Gerando resposta do modelo"
      ],
      "metadata": {
        "id": "GEGObsfvieSj"
      }
    },
    {
      "cell_type": "code",
      "source": [
        "response = model.generate_content (\"Vamos aprender muito conteudo na imersao google Alura.\")\n",
        "print(response.text)"
      ],
      "metadata": {
        "colab": {
          "base_uri": "https://localhost:8080/",
          "height": 198
        },
        "id": "zDxatSm-jW72",
        "outputId": "097fa770-b7dd-434e-e321-4fc496eaea39"
      },
      "execution_count": 110,
      "outputs": [
        {
          "output_type": "stream",
          "name": "stdout",
          "text": [
            "Sim, a Imersão Google Alura é uma ótima oportunidade para aprender muito conteúdo valioso. Aqui estão alguns dos principais benefícios:\n",
            "\n",
            "* **Conteúdo abrangente:** A imersão cobre uma ampla gama de tópicos relacionados ao Google, incluindo marketing digital, análise de dados, desenvolvimento de software e muito mais.\n",
            "* **Instrutores especialistas:** Os instrutores são profissionais experientes do Google e da Alura que compartilham seus conhecimentos e insights práticos.\n",
            "* **Aprendizado prático:** A imersão oferece oportunidades de aprendizado prático por meio de exercícios, estudos de caso e projetos.\n",
            "* **Certificação reconhecida:** Ao concluir a imersão, você receberá um certificado reconhecido pelo Google e pela Alura, que pode aprimorar seu currículo.\n",
            "* **Networking:** A imersão oferece oportunidades para se conectar com outros profissionais e especialistas do setor.\n",
            "\n",
            "Portanto, se você está procurando aprender muito conteúdo valioso sobre o Google e aprimorar suas habilidades profissionais, a Imersão Google Alura é uma excelente escolha.\n"
          ]
        }
      ]
    },
    {
      "cell_type": "markdown",
      "source": [
        "Construindo o Chat"
      ],
      "metadata": {
        "id": "cNGdX6y1qT8j"
      }
    },
    {
      "cell_type": "code",
      "source": [
        "chat = model.start_chat(history=[])"
      ],
      "metadata": {
        "id": "EZ7nJUsjqXhO"
      },
      "execution_count": 111,
      "outputs": []
    },
    {
      "cell_type": "code",
      "source": [
        "prompt = input(\"Esperando prompt:\")\n",
        "while prompt != \"fim\":\n",
        "  response = chat.send_message(prompt)\n",
        "  print(\"Resposta: \",response.text, \"\\n\")\n",
        "  prompt = input(\"Esperando prompt:\")"
      ],
      "metadata": {
        "colab": {
          "base_uri": "https://localhost:8080/",
          "height": 573
        },
        "id": "Cqs90QqasayT",
        "outputId": "dbc4d2d1-46ea-415b-9dc5-cef8ee395d8c"
      },
      "execution_count": 113,
      "outputs": [
        {
          "name": "stdout",
          "output_type": "stream",
          "text": [
            "Esperando prompt:Ola\n",
            "Resposta:  Olá, como posso ajudá-lo hoje? \n",
            "\n",
            "Esperando prompt:Tem Coca-Cola 2 Litros disponivel?\n",
            "Resposta:  Não sou um serviço de entrega ou loja, portanto não tenho Coca-Cola 2 litros disponível. Recomendo que você verifique com um supermercado ou serviço de entrega local para ver se eles têm o produto que você está procurando. \n",
            "\n",
            "Esperando prompt:Perfeito, pode me recomendar um serviço de entrega?\n",
            "Resposta:  Claro, aqui estão alguns serviços de entrega que podem entregar Coca-Cola 2 litros na sua área:\n",
            "\n",
            "* **Rappi**\n",
            "* **Uber Eats**\n",
            "* **iFood**\n",
            "* **James Delivery**\n",
            "* **Zé Delivery**\n",
            "\n",
            "Você pode baixar os aplicativos desses serviços no seu smartphone ou acessar seus sites para fazer seu pedido. Basta inserir seu endereço e procurar por \"Coca-Cola 2 litros\" ou um produto similar.\n",
            "\n",
            "Observe que a disponibilidade e os preços dos produtos podem variar dependendo da sua localização e do serviço de entrega escolhido. \n",
            "\n",
            "Esperando prompt:Quais desses serviços é o mais conceituado?\n",
            "Resposta:  De acordo com avaliações de usuários e classificações gerais, os serviços de entrega mais conceituados para entrega de Coca-Cola 2 litros são:\n",
            "\n",
            "* **Rappi**\n",
            "* **iFood**\n",
            "\n",
            "Esses serviços são conhecidos por sua ampla seleção de produtos, entrega rápida e confiável e excelente atendimento ao cliente. Eles também oferecem promoções e descontos frequentes, o que pode economizar dinheiro em seu pedido.\n",
            "\n",
            "No entanto, a disponibilidade e a qualidade dos serviços podem variar dependendo da sua localização específica. Recomendo verificar as avaliações e comentários dos usuários na sua área antes de escolher um serviço. \n",
            "\n",
            "Esperando prompt:fim\n"
          ]
        }
      ]
    },
    {
      "cell_type": "code",
      "source": [
        "# Melhorando a visualização\n",
        "# Código disponível em https://ai.google.dev/tutorials/python/quickstart#import_packages\n",
        "\n",
        "import textwrap\n",
        "from IPython.display import display\n",
        "from IPython.display import Markdown\n",
        "\n",
        "def to_markdown(text):\n",
        "  \"\"\"Converte texto simples em Markdown formatado.\"\"\"\n",
        "  text = text.replace('\"', '\\\\\"')  # Escapa aspas duplas\n",
        "  return Markdown(textwrap.indent(text, '> '))\n",
        "\n",
        "# Imprimindo histórico\n",
        "for message in chat.history:\n",
        "  display(to_markdown(f'**{message.role}**: {message.parts[0].text}'))\n",
        "  print()  # Adiciona uma linha em branco entre as mensagens"
      ],
      "metadata": {
        "colab": {
          "base_uri": "https://localhost:8080/",
          "height": 1000
        },
        "id": "H9so-qt3zGd3",
        "outputId": "82898870-b99b-4162-9cb6-5dbb9115c9dd"
      },
      "execution_count": 114,
      "outputs": [
        {
          "output_type": "display_data",
          "data": {
            "text/plain": [
              "<IPython.core.display.Markdown object>"
            ],
            "text/markdown": "> **user**: Qual o Jedi mais poderoso da Saga Star Wars?"
          },
          "metadata": {}
        },
        {
          "output_type": "stream",
          "name": "stdout",
          "text": [
            "\n"
          ]
        },
        {
          "output_type": "display_data",
          "data": {
            "text/plain": [
              "<IPython.core.display.Markdown object>"
            ],
            "text/markdown": "> **model**: Yoda"
          },
          "metadata": {}
        },
        {
          "output_type": "stream",
          "name": "stdout",
          "text": [
            "\n"
          ]
        },
        {
          "output_type": "display_data",
          "data": {
            "text/plain": [
              "<IPython.core.display.Markdown object>"
            ],
            "text/markdown": "> **user**: e o Darth Vader?"
          },
          "metadata": {}
        },
        {
          "output_type": "stream",
          "name": "stdout",
          "text": [
            "\n"
          ]
        },
        {
          "output_type": "display_data",
          "data": {
            "text/plain": [
              "<IPython.core.display.Markdown object>"
            ],
            "text/markdown": "> **model**: Darth Vader é um Sith, não um Jedi. No entanto, se considerarmos todos os usuários da Força, incluindo Sith e Jedi, Darth Vader é geralmente considerado um dos mais poderosos, senão o mais poderoso.\n\n> No auge de seus poderes, Darth Vader era incrivelmente poderoso na Força, possuindo habilidades como:\n\n> * Telecinesia\n> * Estrangulamento da Força\n> * Raios da Força\n> * Precognição\n> * Cura\n> * Domínio do sabre de luz\n\n> Ele também era um estrategista brilhante e um guerreiro habilidoso, o que o tornava ainda mais formidável. No entanto, seus ferimentos em Mustafar e a subsequente dependência de um traje de suporte à vida limitaram seus poderes até certo ponto.\n\n> Apesar disso, Darth Vader permaneceu um dos usuários da Força mais poderosos da galáxia, temido por seus inimigos e respeitado até mesmo por seus aliados."
          },
          "metadata": {}
        },
        {
          "output_type": "stream",
          "name": "stdout",
          "text": [
            "\n"
          ]
        },
        {
          "output_type": "display_data",
          "data": {
            "text/plain": [
              "<IPython.core.display.Markdown object>"
            ],
            "text/markdown": "> **user**: Ola"
          },
          "metadata": {}
        },
        {
          "output_type": "stream",
          "name": "stdout",
          "text": [
            "\n"
          ]
        },
        {
          "output_type": "display_data",
          "data": {
            "text/plain": [
              "<IPython.core.display.Markdown object>"
            ],
            "text/markdown": "> **model**: Olá, como posso ajudá-lo hoje?"
          },
          "metadata": {}
        },
        {
          "output_type": "stream",
          "name": "stdout",
          "text": [
            "\n"
          ]
        },
        {
          "output_type": "display_data",
          "data": {
            "text/plain": [
              "<IPython.core.display.Markdown object>"
            ],
            "text/markdown": "> **user**: Tem Coca-Cola 2 Litros disponivel?"
          },
          "metadata": {}
        },
        {
          "output_type": "stream",
          "name": "stdout",
          "text": [
            "\n"
          ]
        },
        {
          "output_type": "display_data",
          "data": {
            "text/plain": [
              "<IPython.core.display.Markdown object>"
            ],
            "text/markdown": "> **model**: Não sou um serviço de entrega ou loja, portanto não tenho Coca-Cola 2 litros disponível. Recomendo que você verifique com um supermercado ou serviço de entrega local para ver se eles têm o produto que você está procurando."
          },
          "metadata": {}
        },
        {
          "output_type": "stream",
          "name": "stdout",
          "text": [
            "\n"
          ]
        },
        {
          "output_type": "display_data",
          "data": {
            "text/plain": [
              "<IPython.core.display.Markdown object>"
            ],
            "text/markdown": "> **user**: Perfeito, pode me recomendar um serviço de entrega?"
          },
          "metadata": {}
        },
        {
          "output_type": "stream",
          "name": "stdout",
          "text": [
            "\n"
          ]
        },
        {
          "output_type": "display_data",
          "data": {
            "text/plain": [
              "<IPython.core.display.Markdown object>"
            ],
            "text/markdown": "> **model**: Claro, aqui estão alguns serviços de entrega que podem entregar Coca-Cola 2 litros na sua área:\n\n> * **Rappi**\n> * **Uber Eats**\n> * **iFood**\n> * **James Delivery**\n> * **Zé Delivery**\n\n> Você pode baixar os aplicativos desses serviços no seu smartphone ou acessar seus sites para fazer seu pedido. Basta inserir seu endereço e procurar por \\\"Coca-Cola 2 litros\\\" ou um produto similar.\n\n> Observe que a disponibilidade e os preços dos produtos podem variar dependendo da sua localização e do serviço de entrega escolhido."
          },
          "metadata": {}
        },
        {
          "output_type": "stream",
          "name": "stdout",
          "text": [
            "\n"
          ]
        },
        {
          "output_type": "display_data",
          "data": {
            "text/plain": [
              "<IPython.core.display.Markdown object>"
            ],
            "text/markdown": "> **user**: Quais desses serviços é o mais conceituado?"
          },
          "metadata": {}
        },
        {
          "output_type": "stream",
          "name": "stdout",
          "text": [
            "\n"
          ]
        },
        {
          "output_type": "display_data",
          "data": {
            "text/plain": [
              "<IPython.core.display.Markdown object>"
            ],
            "text/markdown": "> **model**: De acordo com avaliações de usuários e classificações gerais, os serviços de entrega mais conceituados para entrega de Coca-Cola 2 litros são:\n\n> * **Rappi**\n> * **iFood**\n\n> Esses serviços são conhecidos por sua ampla seleção de produtos, entrega rápida e confiável e excelente atendimento ao cliente. Eles também oferecem promoções e descontos frequentes, o que pode economizar dinheiro em seu pedido.\n\n> No entanto, a disponibilidade e a qualidade dos serviços podem variar dependendo da sua localização específica. Recomendo verificar as avaliações e comentários dos usuários na sua área antes de escolher um serviço."
          },
          "metadata": {}
        },
        {
          "output_type": "stream",
          "name": "stdout",
          "text": [
            "\n"
          ]
        }
      ]
    }
  ]
}