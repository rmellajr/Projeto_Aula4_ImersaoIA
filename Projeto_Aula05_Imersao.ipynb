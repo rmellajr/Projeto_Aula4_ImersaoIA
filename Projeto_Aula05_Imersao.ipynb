{
  "nbformat": 4,
  "nbformat_minor": 0,
  "metadata": {
    "colab": {
      "provenance": [],
      "authorship_tag": "ABX9TyOnZKjDo/3zVyW3NJLHI3U9",
      "include_colab_link": true
    },
    "kernelspec": {
      "name": "python3",
      "display_name": "Python 3"
    },
    "language_info": {
      "name": "python"
    }
  },
  "cells": [
    {
      "cell_type": "markdown",
      "metadata": {
        "id": "view-in-github",
        "colab_type": "text"
      },
      "source": [
        "<a href=\"https://colab.research.google.com/github/rmellajr/Projeto_Aula4_ImersaoIA/blob/main/Projeto_Aula05_Imersao.ipynb\" target=\"_parent\"><img src=\"https://colab.research.google.com/assets/colab-badge.svg\" alt=\"Open In Colab\"/></a>"
      ]
    },
    {
      "cell_type": "code",
      "execution_count": 1,
      "metadata": {
        "id": "2hO2YWyqSTLU"
      },
      "outputs": [],
      "source": [
        "!pip install -q -U google-generativeai"
      ]
    },
    {
      "cell_type": "code",
      "source": [
        "import google.generativeai as genai\n",
        "import pandas as pd\n",
        "import numpy as np\n"
      ],
      "metadata": {
        "id": "dj6p7Hgada7k"
      },
      "execution_count": 6,
      "outputs": []
    },
    {
      "cell_type": "code",
      "source": [
        "from google.colab import userdata\n",
        "api_key = userdata.get('SECRET_KEY')\n",
        "genai.configure(api_key=api_key)"
      ],
      "metadata": {
        "id": "hdhtL0d8eBpO"
      },
      "execution_count": 7,
      "outputs": []
    },
    {
      "cell_type": "code",
      "source": [
        "for m in genai.list_models():\n",
        "  if 'embedContent' in m.supported_generation_methods:\n",
        "    print(m.name)"
      ],
      "metadata": {
        "colab": {
          "base_uri": "https://localhost:8080/",
          "height": 53
        },
        "id": "kuNn1EhofRj8",
        "outputId": "9c04178d-ec20-4e8b-d447-eccef984fa32"
      },
      "execution_count": 8,
      "outputs": [
        {
          "output_type": "stream",
          "name": "stdout",
          "text": [
            "models/embedding-001\n",
            "models/text-embedding-004\n"
          ]
        }
      ]
    },
    {
      "cell_type": "code",
      "source": [
        "#Exemplo de Embedding\n",
        "title = \"A próxima geração de IA para desenvolvedores e Google Workspace\"\n",
        "sample_text = (\"Titulo: A próxima geração de IA para desenvolvedores e Google Workspace\"\n",
        "\"\\n\"\n",
        "\"Artigo completo:\\n\"\n",
        "\"\\n\"\n",
        "\"Gemini API & Google AI Studio: Uma maneira acessível de explorar e criar protótipos com aplicações de IA generativa\")\n",
        "\n",
        "embeddings = genai.embed_content(model=\"models/embedding-001\",\n",
        "                                 content=sample_text,\n",
        "                                 title=title,\n",
        "                                 task_type=\"RETRIEVAL_DOCUMENT\")\n",
        "print(embeddings)"
      ],
      "metadata": {
        "colab": {
          "base_uri": "https://localhost:8080/",
          "height": 55
        },
        "id": "ibMz_6AAj32Y",
        "outputId": "1998dc8f-f00a-4675-9f58-319695ff7da6"
      },
      "execution_count": 9,
      "outputs": [
        {
          "output_type": "stream",
          "name": "stdout",
          "text": [
            "{'embedding': [0.050890755, -0.037246283, -0.018431226, 0.018790184, 0.06608615, -0.004846209, -0.027609862, -0.018105436, 0.06159631, 0.06271742, 0.011369126, 0.013108909, -0.046663653, -0.022218306, 0.009782968, -0.023993805, 0.021617359, -0.011871687, -0.035149682, -0.0011378455, 0.008662901, 0.0067902775, -0.029798262, -0.06736514, -0.018991727, 0.021183532, 0.01535126, -0.037774406, -0.03318969, 0.027746424, -0.048998035, 0.0507089, -0.034133896, 0.009643745, -0.036094204, -0.042003963, -0.026732994, -0.044611316, -0.0008435263, -0.0043267272, 0.0053845607, -0.08440501, -0.009712467, 0.025687205, -0.0043043518, -0.021698005, 0.045403242, 0.04396371, 0.014208992, -0.059025764, 0.029370515, 0.022892706, 0.06585143, -0.04319518, -0.0033994205, -0.008611404, 0.023195915, -0.03330959, 0.023971215, 0.00081927417, -0.0012759138, 0.022347605, -0.017549256, 0.05341226, 0.019217424, -0.05777917, -0.043209262, -0.00027597882, 0.010957023, 0.048468057, 0.009249446, 0.011975633, 0.060952824, -0.06379585, -0.040690344, -0.11326579, -0.04279918, 0.04021567, -0.0071816463, 0.018782075, 0.018879194, -0.080327235, -0.050777026, -0.040324867, -0.019444095, 0.035845317, -0.055120077, -0.023988696, 0.04640844, 0.0025315946, 0.013371943, -0.03633755, 0.05310438, -0.046780203, -0.0039015866, 0.08620189, -0.060630552, -0.01744738, -0.005550856, -0.08314393, -0.016573405, -0.00043610347, -0.054495364, 0.010690645, 0.022170022, 0.036189318, -0.018102312, 0.016663615, -0.048148468, 0.10890485, -0.031650707, -0.009745076, 0.023311809, -0.06275193, 0.044185545, -0.019654058, 0.017090581, 0.042860467, -0.001637409, 0.050753873, 0.046929274, 0.026368402, 0.038358107, -0.0006251817, -0.042768788, 0.028202934, -0.040172417, 0.017940706, 0.059477545, 0.037106693, 0.014701825, -0.050144434, -0.03183969, 0.048215628, 0.040707495, 0.044896323, 0.019630771, -0.017604757, 0.043740675, 0.06275436, -0.0060758237, 0.045238167, -0.0067953337, -0.014578985, -0.0023545139, 0.085387714, -0.07786024, -0.010012676, 0.03116637, -0.0043872674, -0.038647085, 0.0064399047, -0.08475977, 0.058238834, 0.04096369, 0.022098452, -0.035197437, 0.062186092, 0.025303127, 0.013397843, 0.039085314, -0.010294607, 0.002998982, 0.00693878, -0.022456307, -0.022932611, -0.012877421, 0.010007636, 0.020941475, 0.03922454, 0.008157738, 0.011979485, -0.037548874, -0.057135295, -0.008385534, -0.033187952, 0.004167339, -0.0061354013, -0.038690362, 0.016786605, -0.03690027, -0.05934213, 0.039433755, 0.026510831, 0.006147918, -0.026385078, 0.04674108, -0.023632267, -0.0764216, 0.039337344, -0.0064072106, -0.026833229, -0.015667327, 0.009053787, -0.026971644, 0.038124364, 0.022692991, 0.026313728, 0.007851542, -0.022256847, 0.0009348202, 0.07003793, 0.0393129, 0.007829871, -0.0014285166, 0.04695116, 0.082055986, -0.018609578, -0.035002485, 0.03240247, -0.03916242, 0.0029924226, 0.024853371, 0.036035392, 0.023022255, -0.01910599, -0.0041095633, -0.0065808264, -0.031904716, -0.043698914, -0.018238397, -0.0067516603, -0.033481702, -0.015703237, -0.030564748, 0.07125295, -0.059450187, 0.060528353, 0.04311668, -0.07360483, 0.011298416, 0.06449109, 0.0652571, -0.0028150927, 0.048098747, 0.014419773, 0.0077879447, 0.015641028, 0.03464588, 0.04756381, -0.031894326, 0.05918998, 0.04348343, 0.04103024, -0.052826744, 0.004293009, 0.009058471, 0.053678036, 0.0011853034, 0.038625006, -0.011573132, -0.047740366, -0.050623182, 0.063173264, -0.022785073, -0.006460204, -0.06926526, -0.06766313, 0.061146222, -0.0012118153, 0.073367774, -0.046706244, 0.012989093, 0.00059648097, 0.0049667284, -0.05344776, 0.020986766, 0.035867892, -0.028005257, 0.041117135, -0.023169443, -0.061747234, 0.052402634, 0.059773695, 0.0013033113, 0.03108013, 0.0017329468, 0.034544136, 0.056386653, -0.08192355, 0.008476225, 0.044820063, 0.010737473, -0.07133049, -0.05200846, -0.003826703, -0.012414274, -0.052545086, -0.014140653, -0.059115082, -0.07143774, 0.038758207, -0.00684646, 0.021477077, -0.056765728, -0.00030176507, -0.037603673, 0.04037997, 0.04926559, -0.020624038, -0.01882932, -0.0674863, -0.027481645, -0.076809816, -0.01688319, -0.037697513, -0.011894057, -0.059876744, 0.05298004, 0.04294811, 0.011016418, -0.03505378, -0.007369877, 0.017028553, 0.08502355, 0.050049506, -0.038511954, 0.005424921, -0.007564671, 0.055188634, 0.003282438, 0.003590133, -0.006749061, 0.0007371153, -0.02288336, 0.046862695, -0.032786686, -0.0017159479, -0.014195905, 0.025196001, -0.013070071, -0.0020808252, -0.018108288, 0.041259687, 0.06487512, 0.0015741078, -0.056700666, 0.008322982, -0.011751586, -0.03600627, -0.007758228, -0.014865261, -0.0012843065, -0.04123679, 0.031134618, 0.0076449937, -0.0987046, -0.011807472, 0.06466562, 0.011448878, 0.0009647669, 0.056719445, -0.0229847, -0.03015805, -0.008579941, -0.018523086, 0.031538982, 0.024213623, 0.07061592, -0.030964006, -0.0047270367, 0.04642604, -0.009956475, 0.0113345245, 0.013651429, 0.052764483, 0.013727129, -0.0029643548, -0.005395241, 0.018839678, 0.012949499, -0.036798183, 0.016622806, -0.0178813, 0.013563905, -0.0017771039, -0.030767985, -0.06277402, -0.008775615, 0.029258534, -0.023941236, -0.05511999, 0.039980225, 0.049515065, -0.0142605845, 0.0036136368, 0.03418284, 0.060342055, 0.009182377, 0.050139584, 0.021775907, 0.0068900976, 0.09572474, 0.02583962, 0.02375981, 0.019719059, -0.008958763, -0.03259047, 0.032977905, -0.021800527, -0.009838874, -0.044139083, -0.021971881, -0.021019768, -0.024391187, 0.0017191179, -0.037272748, -0.030867832, -0.0538988, -0.04518964, 0.023136728, 0.0019222293, 0.05309823, -0.06703702, -0.054569785, -0.015645782, 0.010117783, -0.016819552, -0.012658297, -0.01683196, -0.010768412, 0.016741103, 0.030884711, -0.032578304, -0.050848763, -0.00412356, 0.012229365, -0.047508527, 0.0065433346, 0.022746116, 0.013963165, 0.018640997, 0.009475359, 0.011280841, -0.023688322, -0.038840327, 0.0028266122, 0.003072804, -0.013980111, 0.027253356, 0.032503385, -0.018165018, -0.0075753685, -0.002226366, -0.060828935, -0.06256595, -0.003949103, 0.005932515, 0.04592105, -0.056928914, 0.0131357815, -0.049866892, -0.03769324, -0.04401337, -0.027692031, 0.014464281, 0.025444305, 0.018465742, -0.0074992627, 0.009226154, 0.011866801, -0.027916912, -0.013025479, -0.017594934, 0.055514354, -0.008400937, 0.0010355471, -0.004297007, 0.012930777, 0.026767023, 0.0208638, -0.08393957, 0.037643142, -0.017748633, 0.015929785, 0.0148554025, -0.051775716, 0.03724708, -0.025648901, 0.015505512, -0.027122313, 0.019082539, 0.0255847, -0.014560816, -0.01217977, -0.04240282, 0.01797384, -0.001872621, 0.008250231, 0.012608105, 0.028231233, 0.031139243, -0.046350483, -0.05401348, -0.014262363, -0.017171154, -0.037469223, 0.0101577835, 0.050210364, 0.020595687, -0.010545407, -0.024084343, -0.018852739, 0.029692277, 0.04600993, -0.034522247, 0.021315115, -0.018213866, 0.0019637134, -0.037414767, -0.018135427, -0.011991202, 0.009678094, -0.03954475, 0.078586, -0.034309223, -0.014918094, 0.03630689, 0.027302189, -0.0069631734, 0.074628696, 0.03648716, -0.060501963, 0.0053541367, 0.018143367, -0.046912733, 0.015125461, -0.011818851, 0.005556582, 0.025958827, -0.018895522, 0.06553384, -0.0063977027, -0.042198528, 0.01779981, 0.011264567, 0.049819596, -0.012226478, -0.031306945, 0.015655393, 0.0058959466, -0.068232544, 0.034627106, 0.019527005, -0.036446862, -0.00734016, -0.0074136346, -0.06000527, 0.01635195, -0.01518564, -0.013111874, 0.008539433, -0.003916978, 0.027677458, 0.03764938, -0.04405819, 0.0004469364, -0.014690041, 0.04486437, 0.019999538, 0.027606202, -0.007013789, -0.020653564, -0.0006360614, 0.058455426, -0.0011890673, -0.014751561, -0.013805822, 0.032132145, -0.027102832, 0.0040983623, 0.012616646, 0.017367188, 0.00680498, 0.048434988, -0.007938506, -0.035296887, -0.019579826, -0.048606485, 0.03889765, 0.03907022, -0.003224191, -0.029860068, 0.04449269, -0.04137431, -0.003277781, 0.009069007, 0.034893997, 0.04694417, 0.026070446, -0.05026081, 0.061381318, 0.0069707884, 0.02081773, 0.024956776, -0.0061105336, 0.025198894, -0.010659675, 0.028151834, 0.06014365, -0.025978204, -0.040852502, 0.05502582, -0.009628691, -0.017688984, 0.009627013, -0.006614494, 0.015975213, 0.015432092, -0.0059019406, 0.009718359, -0.09135355, 0.014679169, -0.03695198, -0.054850355, -0.023252167, 0.030605372, 0.020069735, -0.029704629, -0.012754032, 0.043766916, 0.03455747, 0.02256189, 0.034435656, 0.022702264, 0.022542333, -0.066761814, 0.015490784, 0.054183785, 0.05252518, 0.05842377, 0.058459714, 0.014487811, -0.042635843, -0.05459661, -0.0061068535, 0.02080844, 0.06258911, -0.013405918, -0.040582225, -0.043953158, -0.009627009, -0.01426705, -0.028781334, -0.03633116, 0.00788403, -0.011886862, -0.06920464, -0.06192708, 0.0017887551, -0.0024531682, 0.008862361, 0.006282788, 0.0024809896, 0.039868817, 0.006795872, -0.06603719, -0.05798105, 0.017687757, -0.025437102, -0.06516168, 0.013658059, 0.0033250665, -0.00567769, -0.05874541, -0.035671227, -0.060197957, -0.08548705, -0.045688305, 0.037545145, -0.04101304, 0.051166095, 0.026100704, -0.013469418, 0.025262913, 0.05955237, 0.007092411, -0.0018857985, -0.0014180919, -0.023846395, 0.0048048776, -0.033365075, 0.0024214732, 0.004517878, -0.022642924, 0.01647256, 0.04934306, 0.0071288524, -0.011121962, -0.019409768, -0.016954498, -0.033212822, -0.002167785, -0.014135362, -0.014763012, -0.041901063, -0.037514403, -0.057527382, 0.058752567, 0.041710604, -0.017411817, -0.012549083, -0.020746995, -0.02007371, 0.0011599496, -0.012593982, -0.037780575, -0.0008515787, -0.025153149, 0.052441567, 0.06050935, -0.039573528, -0.088481076, 0.019696256, -0.036719956, 0.0128774885, -0.040137164, -0.00012723738, -0.017969126, 0.037136365, 0.0048639774, -0.0073662624, 0.007476396, -0.034744248, -0.08394604, 0.018153919, -0.03066451, 0.018069694, -0.03210182, 0.002925328, 0.06607594, -0.0044016796, -0.04894071, 0.0033054454, -0.013812554, 0.011534172, -0.03549292, 0.0542894, -0.041853275, -0.07457776, -0.030834869, -0.021934055, -0.015053188, 0.058806777, 0.031380422, -0.029554073, 0.0030216968, -0.009086912, -0.012305137, -0.072347246, -0.031454824, -0.02729745, -0.006830894, 0.03752544, -0.007618352, -0.00438021, 0.0024363368, -0.03378495, 0.008345342, 0.011279572, -0.04085846, -0.042505816, 0.008147359, -0.02927666, 0.009575109, 0.09177802, -0.053778585, 0.009323931]}\n"
          ]
        }
      ]
    },
    {
      "cell_type": "code",
      "source": [
        "DOCUMENT1 = {\n",
        "    \"title\": \"Operating the Climate Control System\",\n",
        "    \"content\": \"Your Googlecar has a climate control system that allows you to adjust the temperature and airflow in the car. To operate the climate control system, use the buttons and knobs located on the center console.  Temperature: The temperature knob controls the temperature inside the car. Turn the knob clockwise to increase the temperature or counterclockwise to decrease the temperature. Airflow: The airflow knob controls the amount of airflow inside the car. Turn the knob clockwise to increase the airflow or counterclockwise to decrease the airflow. Fan speed: The fan speed knob controls the speed of the fan. Turn the knob clockwise to increase the fan speed or counterclockwise to decrease the fan speed. Mode: The mode button allows you to select the desired mode. The available modes are: Auto: The car will automatically adjust the temperature and airflow to maintain a comfortable level. Cool: The car will blow cool air into the car. Heat: The car will blow warm air into the car. Defrost: The car will blow warm air onto the windshield to defrost it.\"}\n",
        "DOCUMENT2 = {\n",
        "    \"title\": \"Touchscreen\",\n",
        "    \"content\": \"Your Googlecar has a large touchscreen display that provides access to a variety of features, including navigation, entertainment, and climate control. To use the touchscreen display, simply touch the desired icon.  For example, you can touch the \\\"Navigation\\\" icon to get directions to your destination or touch the \\\"Music\\\" icon to play your favorite songs.\"}\n",
        "DOCUMENT3 = {\n",
        "    \"title\": \"Shifting Gears\",\n",
        "    \"content\": \"Your Googlecar has an automatic transmission. To shift gears, simply move the shift lever to the desired position.  Park: This position is used when you are parked. The wheels are locked and the car cannot move. Reverse: This position is used to back up. Neutral: This position is used when you are stopped at a light or in traffic. The car is not in gear and will not move unless you press the gas pedal. Drive: This position is used to drive forward. Low: This position is used for driving in snow or other slippery conditions.\"}\n",
        "\n",
        "documents = [DOCUMENT1, DOCUMENT2, DOCUMENT3]"
      ],
      "metadata": {
        "id": "wRnYnUejnfDI"
      },
      "execution_count": 10,
      "outputs": []
    },
    {
      "cell_type": "code",
      "source": [
        "df = pd.DataFrame(documents)\n"
      ],
      "metadata": {
        "id": "GWHSCE_jopZK"
      },
      "execution_count": 11,
      "outputs": []
    },
    {
      "cell_type": "code",
      "source": [
        "model = \"models/embedding-001\""
      ],
      "metadata": {
        "id": "3BiGoMglqxAO"
      },
      "execution_count": 12,
      "outputs": []
    },
    {
      "cell_type": "code",
      "source": [
        "def embed_fn(title,text):\n",
        "  return genai.embed_content(model=model,\n",
        "                                 content=text,\n",
        "                                 title=title,\n",
        "                                 task_type=\"RETRIEVAL_DOCUMENT\")[\"embedding\"]"
      ],
      "metadata": {
        "id": "w3uGLb2KvlBY"
      },
      "execution_count": 13,
      "outputs": []
    },
    {
      "cell_type": "code",
      "source": [
        "df[\"Embeddings\"] = df.apply(lambda row: embed_fn(row[\"title\"], row[\"content\"]), axis=1)\n",
        "df"
      ],
      "metadata": {
        "colab": {
          "base_uri": "https://localhost:8080/",
          "height": 196
        },
        "id": "CSlU9CCRwsHi",
        "outputId": "6532fc7a-1d7c-4a97-9428-c5a0de112018"
      },
      "execution_count": 14,
      "outputs": [
        {
          "output_type": "execute_result",
          "data": {
            "text/plain": [
              "                                  title  \\\n",
              "0  Operating the Climate Control System   \n",
              "1                           Touchscreen   \n",
              "2                        Shifting Gears   \n",
              "\n",
              "                                             content  \\\n",
              "0  Your Googlecar has a climate control system th...   \n",
              "1  Your Googlecar has a large touchscreen display...   \n",
              "2  Your Googlecar has an automatic transmission. ...   \n",
              "\n",
              "                                          Embeddings  \n",
              "0  [-0.033361107, -0.021217084, -0.049581926, -0....  \n",
              "1  [0.009660736, -0.030662702, -0.017281422, -0.0...  \n",
              "2  [-0.04270796, -0.007160868, -0.03242516, -0.02...  "
            ],
            "text/html": [
              "\n",
              "  <div id=\"df-fc63a15c-6676-450e-81b5-786daeccf8e6\" class=\"colab-df-container\">\n",
              "    <div>\n",
              "<style scoped>\n",
              "    .dataframe tbody tr th:only-of-type {\n",
              "        vertical-align: middle;\n",
              "    }\n",
              "\n",
              "    .dataframe tbody tr th {\n",
              "        vertical-align: top;\n",
              "    }\n",
              "\n",
              "    .dataframe thead th {\n",
              "        text-align: right;\n",
              "    }\n",
              "</style>\n",
              "<table border=\"1\" class=\"dataframe\">\n",
              "  <thead>\n",
              "    <tr style=\"text-align: right;\">\n",
              "      <th></th>\n",
              "      <th>title</th>\n",
              "      <th>content</th>\n",
              "      <th>Embeddings</th>\n",
              "    </tr>\n",
              "  </thead>\n",
              "  <tbody>\n",
              "    <tr>\n",
              "      <th>0</th>\n",
              "      <td>Operating the Climate Control System</td>\n",
              "      <td>Your Googlecar has a climate control system th...</td>\n",
              "      <td>[-0.033361107, -0.021217084, -0.049581926, -0....</td>\n",
              "    </tr>\n",
              "    <tr>\n",
              "      <th>1</th>\n",
              "      <td>Touchscreen</td>\n",
              "      <td>Your Googlecar has a large touchscreen display...</td>\n",
              "      <td>[0.009660736, -0.030662702, -0.017281422, -0.0...</td>\n",
              "    </tr>\n",
              "    <tr>\n",
              "      <th>2</th>\n",
              "      <td>Shifting Gears</td>\n",
              "      <td>Your Googlecar has an automatic transmission. ...</td>\n",
              "      <td>[-0.04270796, -0.007160868, -0.03242516, -0.02...</td>\n",
              "    </tr>\n",
              "  </tbody>\n",
              "</table>\n",
              "</div>\n",
              "    <div class=\"colab-df-buttons\">\n",
              "\n",
              "  <div class=\"colab-df-container\">\n",
              "    <button class=\"colab-df-convert\" onclick=\"convertToInteractive('df-fc63a15c-6676-450e-81b5-786daeccf8e6')\"\n",
              "            title=\"Convert this dataframe to an interactive table.\"\n",
              "            style=\"display:none;\">\n",
              "\n",
              "  <svg xmlns=\"http://www.w3.org/2000/svg\" height=\"24px\" viewBox=\"0 -960 960 960\">\n",
              "    <path d=\"M120-120v-720h720v720H120Zm60-500h600v-160H180v160Zm220 220h160v-160H400v160Zm0 220h160v-160H400v160ZM180-400h160v-160H180v160Zm440 0h160v-160H620v160ZM180-180h160v-160H180v160Zm440 0h160v-160H620v160Z\"/>\n",
              "  </svg>\n",
              "    </button>\n",
              "\n",
              "  <style>\n",
              "    .colab-df-container {\n",
              "      display:flex;\n",
              "      gap: 12px;\n",
              "    }\n",
              "\n",
              "    .colab-df-convert {\n",
              "      background-color: #E8F0FE;\n",
              "      border: none;\n",
              "      border-radius: 50%;\n",
              "      cursor: pointer;\n",
              "      display: none;\n",
              "      fill: #1967D2;\n",
              "      height: 32px;\n",
              "      padding: 0 0 0 0;\n",
              "      width: 32px;\n",
              "    }\n",
              "\n",
              "    .colab-df-convert:hover {\n",
              "      background-color: #E2EBFA;\n",
              "      box-shadow: 0px 1px 2px rgba(60, 64, 67, 0.3), 0px 1px 3px 1px rgba(60, 64, 67, 0.15);\n",
              "      fill: #174EA6;\n",
              "    }\n",
              "\n",
              "    .colab-df-buttons div {\n",
              "      margin-bottom: 4px;\n",
              "    }\n",
              "\n",
              "    [theme=dark] .colab-df-convert {\n",
              "      background-color: #3B4455;\n",
              "      fill: #D2E3FC;\n",
              "    }\n",
              "\n",
              "    [theme=dark] .colab-df-convert:hover {\n",
              "      background-color: #434B5C;\n",
              "      box-shadow: 0px 1px 3px 1px rgba(0, 0, 0, 0.15);\n",
              "      filter: drop-shadow(0px 1px 2px rgba(0, 0, 0, 0.3));\n",
              "      fill: #FFFFFF;\n",
              "    }\n",
              "  </style>\n",
              "\n",
              "    <script>\n",
              "      const buttonEl =\n",
              "        document.querySelector('#df-fc63a15c-6676-450e-81b5-786daeccf8e6 button.colab-df-convert');\n",
              "      buttonEl.style.display =\n",
              "        google.colab.kernel.accessAllowed ? 'block' : 'none';\n",
              "\n",
              "      async function convertToInteractive(key) {\n",
              "        const element = document.querySelector('#df-fc63a15c-6676-450e-81b5-786daeccf8e6');\n",
              "        const dataTable =\n",
              "          await google.colab.kernel.invokeFunction('convertToInteractive',\n",
              "                                                    [key], {});\n",
              "        if (!dataTable) return;\n",
              "\n",
              "        const docLinkHtml = 'Like what you see? Visit the ' +\n",
              "          '<a target=\"_blank\" href=https://colab.research.google.com/notebooks/data_table.ipynb>data table notebook</a>'\n",
              "          + ' to learn more about interactive tables.';\n",
              "        element.innerHTML = '';\n",
              "        dataTable['output_type'] = 'display_data';\n",
              "        await google.colab.output.renderOutput(dataTable, element);\n",
              "        const docLink = document.createElement('div');\n",
              "        docLink.innerHTML = docLinkHtml;\n",
              "        element.appendChild(docLink);\n",
              "      }\n",
              "    </script>\n",
              "  </div>\n",
              "\n",
              "\n",
              "<div id=\"df-953e1240-f738-4a74-aab9-23fb43f00a79\">\n",
              "  <button class=\"colab-df-quickchart\" onclick=\"quickchart('df-953e1240-f738-4a74-aab9-23fb43f00a79')\"\n",
              "            title=\"Suggest charts\"\n",
              "            style=\"display:none;\">\n",
              "\n",
              "<svg xmlns=\"http://www.w3.org/2000/svg\" height=\"24px\"viewBox=\"0 0 24 24\"\n",
              "     width=\"24px\">\n",
              "    <g>\n",
              "        <path d=\"M19 3H5c-1.1 0-2 .9-2 2v14c0 1.1.9 2 2 2h14c1.1 0 2-.9 2-2V5c0-1.1-.9-2-2-2zM9 17H7v-7h2v7zm4 0h-2V7h2v10zm4 0h-2v-4h2v4z\"/>\n",
              "    </g>\n",
              "</svg>\n",
              "  </button>\n",
              "\n",
              "<style>\n",
              "  .colab-df-quickchart {\n",
              "      --bg-color: #E8F0FE;\n",
              "      --fill-color: #1967D2;\n",
              "      --hover-bg-color: #E2EBFA;\n",
              "      --hover-fill-color: #174EA6;\n",
              "      --disabled-fill-color: #AAA;\n",
              "      --disabled-bg-color: #DDD;\n",
              "  }\n",
              "\n",
              "  [theme=dark] .colab-df-quickchart {\n",
              "      --bg-color: #3B4455;\n",
              "      --fill-color: #D2E3FC;\n",
              "      --hover-bg-color: #434B5C;\n",
              "      --hover-fill-color: #FFFFFF;\n",
              "      --disabled-bg-color: #3B4455;\n",
              "      --disabled-fill-color: #666;\n",
              "  }\n",
              "\n",
              "  .colab-df-quickchart {\n",
              "    background-color: var(--bg-color);\n",
              "    border: none;\n",
              "    border-radius: 50%;\n",
              "    cursor: pointer;\n",
              "    display: none;\n",
              "    fill: var(--fill-color);\n",
              "    height: 32px;\n",
              "    padding: 0;\n",
              "    width: 32px;\n",
              "  }\n",
              "\n",
              "  .colab-df-quickchart:hover {\n",
              "    background-color: var(--hover-bg-color);\n",
              "    box-shadow: 0 1px 2px rgba(60, 64, 67, 0.3), 0 1px 3px 1px rgba(60, 64, 67, 0.15);\n",
              "    fill: var(--button-hover-fill-color);\n",
              "  }\n",
              "\n",
              "  .colab-df-quickchart-complete:disabled,\n",
              "  .colab-df-quickchart-complete:disabled:hover {\n",
              "    background-color: var(--disabled-bg-color);\n",
              "    fill: var(--disabled-fill-color);\n",
              "    box-shadow: none;\n",
              "  }\n",
              "\n",
              "  .colab-df-spinner {\n",
              "    border: 2px solid var(--fill-color);\n",
              "    border-color: transparent;\n",
              "    border-bottom-color: var(--fill-color);\n",
              "    animation:\n",
              "      spin 1s steps(1) infinite;\n",
              "  }\n",
              "\n",
              "  @keyframes spin {\n",
              "    0% {\n",
              "      border-color: transparent;\n",
              "      border-bottom-color: var(--fill-color);\n",
              "      border-left-color: var(--fill-color);\n",
              "    }\n",
              "    20% {\n",
              "      border-color: transparent;\n",
              "      border-left-color: var(--fill-color);\n",
              "      border-top-color: var(--fill-color);\n",
              "    }\n",
              "    30% {\n",
              "      border-color: transparent;\n",
              "      border-left-color: var(--fill-color);\n",
              "      border-top-color: var(--fill-color);\n",
              "      border-right-color: var(--fill-color);\n",
              "    }\n",
              "    40% {\n",
              "      border-color: transparent;\n",
              "      border-right-color: var(--fill-color);\n",
              "      border-top-color: var(--fill-color);\n",
              "    }\n",
              "    60% {\n",
              "      border-color: transparent;\n",
              "      border-right-color: var(--fill-color);\n",
              "    }\n",
              "    80% {\n",
              "      border-color: transparent;\n",
              "      border-right-color: var(--fill-color);\n",
              "      border-bottom-color: var(--fill-color);\n",
              "    }\n",
              "    90% {\n",
              "      border-color: transparent;\n",
              "      border-bottom-color: var(--fill-color);\n",
              "    }\n",
              "  }\n",
              "</style>\n",
              "\n",
              "  <script>\n",
              "    async function quickchart(key) {\n",
              "      const quickchartButtonEl =\n",
              "        document.querySelector('#' + key + ' button');\n",
              "      quickchartButtonEl.disabled = true;  // To prevent multiple clicks.\n",
              "      quickchartButtonEl.classList.add('colab-df-spinner');\n",
              "      try {\n",
              "        const charts = await google.colab.kernel.invokeFunction(\n",
              "            'suggestCharts', [key], {});\n",
              "      } catch (error) {\n",
              "        console.error('Error during call to suggestCharts:', error);\n",
              "      }\n",
              "      quickchartButtonEl.classList.remove('colab-df-spinner');\n",
              "      quickchartButtonEl.classList.add('colab-df-quickchart-complete');\n",
              "    }\n",
              "    (() => {\n",
              "      let quickchartButtonEl =\n",
              "        document.querySelector('#df-953e1240-f738-4a74-aab9-23fb43f00a79 button');\n",
              "      quickchartButtonEl.style.display =\n",
              "        google.colab.kernel.accessAllowed ? 'block' : 'none';\n",
              "    })();\n",
              "  </script>\n",
              "</div>\n",
              "\n",
              "  <div id=\"id_e40a073f-a343-43e6-a534-2d91fbb0865f\">\n",
              "    <style>\n",
              "      .colab-df-generate {\n",
              "        background-color: #E8F0FE;\n",
              "        border: none;\n",
              "        border-radius: 50%;\n",
              "        cursor: pointer;\n",
              "        display: none;\n",
              "        fill: #1967D2;\n",
              "        height: 32px;\n",
              "        padding: 0 0 0 0;\n",
              "        width: 32px;\n",
              "      }\n",
              "\n",
              "      .colab-df-generate:hover {\n",
              "        background-color: #E2EBFA;\n",
              "        box-shadow: 0px 1px 2px rgba(60, 64, 67, 0.3), 0px 1px 3px 1px rgba(60, 64, 67, 0.15);\n",
              "        fill: #174EA6;\n",
              "      }\n",
              "\n",
              "      [theme=dark] .colab-df-generate {\n",
              "        background-color: #3B4455;\n",
              "        fill: #D2E3FC;\n",
              "      }\n",
              "\n",
              "      [theme=dark] .colab-df-generate:hover {\n",
              "        background-color: #434B5C;\n",
              "        box-shadow: 0px 1px 3px 1px rgba(0, 0, 0, 0.15);\n",
              "        filter: drop-shadow(0px 1px 2px rgba(0, 0, 0, 0.3));\n",
              "        fill: #FFFFFF;\n",
              "      }\n",
              "    </style>\n",
              "    <button class=\"colab-df-generate\" onclick=\"generateWithVariable('df')\"\n",
              "            title=\"Generate code using this dataframe.\"\n",
              "            style=\"display:none;\">\n",
              "\n",
              "  <svg xmlns=\"http://www.w3.org/2000/svg\" height=\"24px\"viewBox=\"0 0 24 24\"\n",
              "       width=\"24px\">\n",
              "    <path d=\"M7,19H8.4L18.45,9,17,7.55,7,17.6ZM5,21V16.75L18.45,3.32a2,2,0,0,1,2.83,0l1.4,1.43a1.91,1.91,0,0,1,.58,1.4,1.91,1.91,0,0,1-.58,1.4L9.25,21ZM18.45,9,17,7.55Zm-12,3A5.31,5.31,0,0,0,4.9,8.1,5.31,5.31,0,0,0,1,6.5,5.31,5.31,0,0,0,4.9,4.9,5.31,5.31,0,0,0,6.5,1,5.31,5.31,0,0,0,8.1,4.9,5.31,5.31,0,0,0,12,6.5,5.46,5.46,0,0,0,6.5,12Z\"/>\n",
              "  </svg>\n",
              "    </button>\n",
              "    <script>\n",
              "      (() => {\n",
              "      const buttonEl =\n",
              "        document.querySelector('#id_e40a073f-a343-43e6-a534-2d91fbb0865f button.colab-df-generate');\n",
              "      buttonEl.style.display =\n",
              "        google.colab.kernel.accessAllowed ? 'block' : 'none';\n",
              "\n",
              "      buttonEl.onclick = () => {\n",
              "        google.colab.notebook.generateWithVariable('df');\n",
              "      }\n",
              "      })();\n",
              "    </script>\n",
              "  </div>\n",
              "\n",
              "    </div>\n",
              "  </div>\n"
            ],
            "application/vnd.google.colaboratory.intrinsic+json": {
              "type": "dataframe",
              "variable_name": "df",
              "summary": "{\n  \"name\": \"df\",\n  \"rows\": 3,\n  \"fields\": [\n    {\n      \"column\": \"title\",\n      \"properties\": {\n        \"dtype\": \"string\",\n        \"num_unique_values\": 3,\n        \"samples\": [\n          \"Operating the Climate Control System\",\n          \"Touchscreen\",\n          \"Shifting Gears\"\n        ],\n        \"semantic_type\": \"\",\n        \"description\": \"\"\n      }\n    },\n    {\n      \"column\": \"content\",\n      \"properties\": {\n        \"dtype\": \"string\",\n        \"num_unique_values\": 3,\n        \"samples\": [\n          \"Your Googlecar has a climate control system that allows you to adjust the temperature and airflow in the car. To operate the climate control system, use the buttons and knobs located on the center console.  Temperature: The temperature knob controls the temperature inside the car. Turn the knob clockwise to increase the temperature or counterclockwise to decrease the temperature. Airflow: The airflow knob controls the amount of airflow inside the car. Turn the knob clockwise to increase the airflow or counterclockwise to decrease the airflow. Fan speed: The fan speed knob controls the speed of the fan. Turn the knob clockwise to increase the fan speed or counterclockwise to decrease the fan speed. Mode: The mode button allows you to select the desired mode. The available modes are: Auto: The car will automatically adjust the temperature and airflow to maintain a comfortable level. Cool: The car will blow cool air into the car. Heat: The car will blow warm air into the car. Defrost: The car will blow warm air onto the windshield to defrost it.\",\n          \"Your Googlecar has a large touchscreen display that provides access to a variety of features, including navigation, entertainment, and climate control. To use the touchscreen display, simply touch the desired icon.  For example, you can touch the \\\"Navigation\\\" icon to get directions to your destination or touch the \\\"Music\\\" icon to play your favorite songs.\",\n          \"Your Googlecar has an automatic transmission. To shift gears, simply move the shift lever to the desired position.  Park: This position is used when you are parked. The wheels are locked and the car cannot move. Reverse: This position is used to back up. Neutral: This position is used when you are stopped at a light or in traffic. The car is not in gear and will not move unless you press the gas pedal. Drive: This position is used to drive forward. Low: This position is used for driving in snow or other slippery conditions.\"\n        ],\n        \"semantic_type\": \"\",\n        \"description\": \"\"\n      }\n    },\n    {\n      \"column\": \"Embeddings\",\n      \"properties\": {\n        \"dtype\": \"object\",\n        \"semantic_type\": \"\",\n        \"description\": \"\"\n      }\n    }\n  ]\n}"
            }
          },
          "metadata": {},
          "execution_count": 14
        }
      ]
    },
    {
      "cell_type": "code",
      "source": [
        "def gerar_e_buscar_consulta(consulta, base, model):\n",
        "  embeding_da_consulta = genai.embed_content(model=model,\n",
        "                                 content=consulta,\n",
        "                                 task_type=\"RETRIEVAL_QUERY\")[\"embedding\"]\n",
        "  produtos_escalares = np.dot(np.stack(df[\"Embeddings\"]), embeding_da_consulta)\n",
        "  indice = np.argmax(produtos_escalares)\n",
        "  return df.iloc[indice][\"content\"]"
      ],
      "metadata": {
        "id": "Lbn94An71Qqt"
      },
      "execution_count": 22,
      "outputs": []
    },
    {
      "cell_type": "code",
      "source": [
        "consulta = \"Is there any display in google car?\"\n",
        "\n",
        "trecho = gerar_e_buscar_consulta(consulta, df, model)\n",
        "print(trecho)"
      ],
      "metadata": {
        "colab": {
          "base_uri": "https://localhost:8080/",
          "height": 55
        },
        "id": "HYQt-Fij1oNZ",
        "outputId": "72ab5bd3-15c3-43f5-feb9-8bdf4f55a65e"
      },
      "execution_count": 33,
      "outputs": [
        {
          "output_type": "stream",
          "name": "stdout",
          "text": [
            "Your Googlecar has a large touchscreen display that provides access to a variety of features, including navigation, entertainment, and climate control. To use the touchscreen display, simply touch the desired icon.  For example, you can touch the \"Navigation\" icon to get directions to your destination or touch the \"Music\" icon to play your favorite songs.\n"
          ]
        }
      ]
    },
    {
      "cell_type": "code",
      "source": [
        "generation_config = {\n",
        "    \"temperature\": 0,\n",
        "    \"candidate_count\": 1,\n",
        "    }"
      ],
      "metadata": {
        "id": "NAm78PqW_I2E"
      },
      "execution_count": 30,
      "outputs": []
    },
    {
      "cell_type": "code",
      "source": [
        "prompt = f\"Regenerate the text in a funny way, without adding information that does not be part of the text : {trecho}\"\n",
        "model_2 = genai.GenerativeModel(\"gemini-1.0-pro\",\n",
        "                                generation_config=generation_config)\n",
        "response = model_2.generate_content(prompt)\n",
        "print(response.text)"
      ],
      "metadata": {
        "colab": {
          "base_uri": "https://localhost:8080/",
          "height": 126
        },
        "id": "KAEnktB_84FP",
        "outputId": "893943f0-22ba-4278-e60c-d6e32549daeb"
      },
      "execution_count": 32,
      "outputs": [
        {
          "output_type": "stream",
          "name": "stdout",
          "text": [
            "Your Googlecar's got a touchscreen so big, it'll make your hamster jealous! It's like a giant smartphone on wheels.\n",
            "\n",
            "To use it, just poke the screen like a pro. Want to get lost? Tap the \"Navigation\" icon. Feeling musical? Bop the \"Music\" icon and jam out to your favorite tunes.\n",
            "\n",
            "Just remember, don't get too distracted by the touchscreen. You still need to keep your eyes on the road, unless you want to end up in a ditch with a chorus of \"Oops, I Did It Again\" playing in the background.\n"
          ]
        }
      ]
    }
  ]
}